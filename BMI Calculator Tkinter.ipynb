{
 "cells": [
  {
   "cell_type": "code",
   "execution_count": 18,
   "id": "d62575d5",
   "metadata": {},
   "outputs": [],
   "source": [
    "from tkinter import *\n",
    "\n",
    "window=Tk()\n",
    "window.title(\"BMI Calculator\")\n",
    "\n",
    "height_label=Label(text=\"Enter Height(in metre)\",)\n",
    "height_label.grid(row=0,column=0)\n",
    "\n",
    "height_entry=Entry()\n",
    "height_entry.grid(row=0,column=1)\n",
    "\n",
    "weight_label=Label(text=\"Enter Weight(in KG)\")\n",
    "weight_label.grid(row=1,column=0)\n",
    "\n",
    "weight_entry=Entry()\n",
    "weight_entry.grid(row=1,column=1)\n",
    "\n",
    "bmi_label=Label()\n",
    "bmi_label.grid(row=3,column=1)\n",
    "\n",
    "def calculator():\n",
    "    height=float(height_entry.get())\n",
    "    weight=float(weight_entry.get())\n",
    "    bmi=round(weight/(height**2),2)\n",
    "    if bmi < 18.5:\n",
    "      bmi_label.config(text=f\"BMI={bmi},Underweight\")\n",
    "    elif bmi >= 18.5 and bmi < 25:\n",
    "      bmi_label.config(text=f\"BMI={bmi},Normal weight\")\n",
    "    elif bmi >= 25 and bmi < 30:\n",
    "      bmi_label.config(text=f\"BMI={bmi},Overweight\")\n",
    "    else:\n",
    "      bmi_label.config(text=f\"BMI={bmi},Obese\")\n",
    "    \n",
    "button=Button(text=\"Calculate BMI\",command=calculator)\n",
    "button.grid(row=2,column=1)\n",
    "\n",
    "window.mainloop()"
   ]
  },
  {
   "cell_type": "code",
   "execution_count": null,
   "id": "be5b28ee",
   "metadata": {},
   "outputs": [],
   "source": []
  }
 ],
 "metadata": {
  "kernelspec": {
   "display_name": "Python 3 (ipykernel)",
   "language": "python",
   "name": "python3"
  },
  "language_info": {
   "codemirror_mode": {
    "name": "ipython",
    "version": 3
   },
   "file_extension": ".py",
   "mimetype": "text/x-python",
   "name": "python",
   "nbconvert_exporter": "python",
   "pygments_lexer": "ipython3",
   "version": "3.9.12"
  }
 },
 "nbformat": 4,
 "nbformat_minor": 5
}
